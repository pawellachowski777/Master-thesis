{
 "cells": [
  {
   "cell_type": "code",
   "execution_count": 3,
   "id": "d1b3bfd44c1ea477",
   "metadata": {
    "ExecuteTime": {
     "end_time": "2025-01-05T15:17:02.196709Z",
     "start_time": "2025-01-05T15:17:02.188920Z"
    }
   },
   "outputs": [],
   "source": [
    "import pandas as pd\n",
    "import os\n",
    "from utils.from_mongodb import MongoData\n",
    "from config import MongoConfig\n",
    "\n",
    "### FUNCTION\n",
    "def load_data(path: str, mongo_connect_config: MongoConfig):\n",
    "    \"\"\"\n",
    "    Loads data from either from MongoDB if the file not exists or from published by the author .parquet if the file exists.\n",
    "    :param path: str - path to the data file\n",
    "    :param mongo_connect_config: MongoConfig - configuration object to connect to MongoDB.\n",
    "    :return: \n",
    "    \"\"\"\n",
    "    if os.path.exists(path):\n",
    "        df_df = pd.read_parquet(path)\n",
    "    else:\n",
    "        data_class = MongoData(mongo_connect_config)\n",
    "        df_df = data_class.load_mongo_document_to_df()\n",
    "        df_df.to_parquet(path)\n",
    "    \n",
    "    return df_df\n",
    "\n",
    "def create_date_time_with_timezone(df):\n",
    "    \"\"\"\n",
    "    Save date and time as datetime with time zone to distinguish DST (Daylight saving time) 3rd hour duplication.\n",
    "    \"\"\"\n",
    "    df.loc[(df['date_cet'] == '2023-10-29') & (df['hour'] > 3), 'hour']  = \\\n",
    "        df.loc[(df['date_cet'] == '2023-10-29') & (df['hour'] > 3), 'hour'] - 1\n",
    "    # df = create_datetime_timezone_1h(df)\n",
    "    df['Data Godzina'] = pd.to_datetime(df['date_cet']) + pd.to_timedelta(df['hour'] - 1, unit='h')\n",
    "    df['Data Godzina'] = df['Data Godzina'].dt.tz_localize('Europe/Warsaw', ambiguous='infer')\n",
    "\n",
    "    return df"
   ]
  },
  {
   "cell_type": "markdown",
   "id": "6d99a9bb8b4a6a30",
   "metadata": {},
   "source": [
    "## PSE - BPKD (Krajowe zapotrzebowanie, PV, wiatr)"
   ]
  },
  {
   "cell_type": "code",
   "execution_count": 4,
   "id": "c7b3a5b02001536e",
   "metadata": {
    "ExecuteTime": {
     "end_time": "2025-01-05T15:17:09.673843Z",
     "start_time": "2025-01-05T15:17:09.648800Z"
    }
   },
   "outputs": [],
   "source": [
    "from config import mongo_connect_config_pse_bpkd\n",
    "\n",
    "\n",
    "path = 'data/2023/raw_PSE_BPKD.parquet'\n",
    "# path = 'data/2023/raw_PSE_PK5.parquet'\n",
    "df_pse = load_data(path, mongo_connect_config_pse_bpkd)"
   ]
  },
  {
   "cell_type": "code",
   "execution_count": 5,
   "id": "c4868fa32eefc8fa",
   "metadata": {
    "ExecuteTime": {
     "end_time": "2025-01-05T15:17:21.049902Z",
     "start_time": "2025-01-05T15:17:21.017024Z"
    }
   },
   "outputs": [],
   "source": [
    "# process data \n",
    "df_pse.loc[(df_pse['date_cet'] == '2023-03-26') & (df_pse['hour'] == 3), 'hour'] = 2\n",
    "df_pse = create_date_time_with_timezone(df_pse)\n",
    "\n",
    "df_pse = df_pse.set_index('Data Godzina')\n",
    "df_pse = df_pse[[\n",
    "    'krajowe_zapotrzebowanie_na_moc[MW]','generacja_zrodel_wiatrowych[MWh]',\n",
    "    'generacja_zrodel_fotowoltaicznych[MWh]']].copy()\n",
    "df_pse = df_pse.rename(columns={\n",
    "    'krajowe_zapotrzebowanie_na_moc[MW]': 'Godzinowe zużycie krajowe MWh',\n",
    "    'generacja_zrodel_wiatrowych[MWh]': 'Generacja ze źródeł wiatrowych MWh',\n",
    "    'generacja_zrodel_fotowoltaicznych[MWh]': 'Generacja ze źródeł fotowoltaicznych MWh',\n",
    "})\n",
    "df_pse = df_pse.reset_index()\n",
    "\n",
    "# save processed data\n",
    "df_pse.to_parquet('data/2023/processed_PSE_BPKD.parquet')"
   ]
  },
  {
   "cell_type": "markdown",
   "id": "9890d5638a334c30",
   "metadata": {},
   "source": [
    "## PSE - RCE"
   ]
  },
  {
   "cell_type": "code",
   "execution_count": 6,
   "id": "34079f20929a3a51",
   "metadata": {
    "ExecuteTime": {
     "end_time": "2025-01-05T15:17:25.082446Z",
     "start_time": "2025-01-05T15:17:25.040329Z"
    }
   },
   "outputs": [],
   "source": [
    "from config import mongo_connect_config_rce\n",
    "\n",
    "path_fix = 'data/2023/raw_rce.parquet'\n",
    "df_rce = load_data(path_fix, mongo_connect_config_rce)\n",
    "\n",
    "df_rce.loc[(df_rce['date_cet'] == '2023-03-26') & (df_rce['hour'] == 3), 'hour'] = 2\n",
    "df_rce = create_date_time_with_timezone(df_rce)\n",
    "\n",
    "df_rce = df_rce.rename(columns={\n",
    "    'RCE[PLN/MWh]': 'Cena PLN/MWh',\n",
    "    'datetime_timezone': 'Data Godzina'\n",
    "})\n",
    "df_rce = df_rce[['Data Godzina', 'Cena PLN/MWh']].copy()\n",
    "\n",
    "df_rce.to_parquet('data/2023/processed_rce.parquet')"
   ]
  },
  {
   "cell_type": "markdown",
   "id": "5050f9c1b3e0d098",
   "metadata": {},
   "source": [
    "## Fix1 historia"
   ]
  },
  {
   "cell_type": "code",
   "execution_count": 7,
   "id": "c21c0d4e97deee4d",
   "metadata": {
    "ExecuteTime": {
     "end_time": "2025-01-05T15:17:26.604740Z",
     "start_time": "2025-01-05T15:17:26.595839Z"
    }
   },
   "outputs": [],
   "source": [
    "# df_ceny_rdn = pd.read_parquet('data/surowe_Ceny_2020_24.parquet')\n",
    "from PyXoog import convert_datetime_timezone_datatype\n",
    "from config import mongo_connect_config_ceny_fix1\n",
    "\n",
    "mongo_connect_config_ceny_fix1.START = '2016-01-01'\n",
    "mongo_connect_config_ceny_fix1.END = '2024-12-31'\n",
    "\n",
    "path_fix1 = 'data/2023/raw_fix1_history.parquet'\n",
    "df_fix1_history = load_data(path_fix1, mongo_connect_config_ceny_fix1)\n",
    "df_fix1_history = convert_datetime_timezone_datatype(df_fix1_history)\n",
    "df_fix1_history = df_fix1_history.rename(columns={\n",
    "     'fix1_price[PLN/MWh]': 'Cena PLN/MWh',\n",
    "    'datetime_timezone': 'Data Godzina'\n",
    "})\n",
    "df_fix1_history = df_fix1_history[['Data Godzina', 'Cena PLN/MWh']].copy()\n",
    "df_fix1_history.to_parquet('data/obrobione_Ceny_2016_24.parquet')"
   ]
  },
  {
   "cell_type": "code",
   "execution_count": 8,
   "id": "1a8e60af",
   "metadata": {},
   "outputs": [
    {
     "data": {
      "application/vnd.microsoft.datawrangler.viewer.v0+json": {
       "columns": [
        {
         "name": "index",
         "rawType": "int64",
         "type": "integer"
        },
        {
         "name": "Data Godzina",
         "rawType": "datetime64[ns, Europe/Warsaw]",
         "type": "unknown"
        },
        {
         "name": "Cena PLN/MWh",
         "rawType": "float64",
         "type": "float"
        }
       ],
       "conversionMethod": "pd.DataFrame",
       "ref": "1118eb73-68fe-407f-b1f6-3b5d36b90f61",
       "rows": [
        [
         "78888",
         "2016-01-01 00:00:00+01:00",
         "108.27"
        ],
        [
         "78889",
         "2016-01-01 01:00:00+01:00",
         "94.74"
        ],
        [
         "78890",
         "2016-01-01 02:00:00+01:00",
         "85.05"
        ],
        [
         "78891",
         "2016-01-01 03:00:00+01:00",
         "79.35"
        ],
        [
         "78892",
         "2016-01-01 04:00:00+01:00",
         "75.17"
        ],
        [
         "78893",
         "2016-01-01 05:00:00+01:00",
         "79.5"
        ],
        [
         "78894",
         "2016-01-01 06:00:00+01:00",
         "82.96"
        ],
        [
         "78895",
         "2016-01-01 07:00:00+01:00",
         "98.12"
        ],
        [
         "78896",
         "2016-01-01 08:00:00+01:00",
         "105.43"
        ],
        [
         "78897",
         "2016-01-01 09:00:00+01:00",
         "120.09"
        ],
        [
         "78898",
         "2016-01-01 10:00:00+01:00",
         "134.99"
        ],
        [
         "78899",
         "2016-01-01 11:00:00+01:00",
         "137.05"
        ],
        [
         "78900",
         "2016-01-01 12:00:00+01:00",
         "138.5"
        ],
        [
         "78901",
         "2016-01-01 13:00:00+01:00",
         "142.25"
        ],
        [
         "78902",
         "2016-01-01 14:00:00+01:00",
         "141.28"
        ],
        [
         "78903",
         "2016-01-01 15:00:00+01:00",
         "142.24"
        ],
        [
         "78904",
         "2016-01-01 16:00:00+01:00",
         "147.92"
        ],
        [
         "78905",
         "2016-01-01 17:00:00+01:00",
         "145.02"
        ],
        [
         "78906",
         "2016-01-01 18:00:00+01:00",
         "145.63"
        ],
        [
         "78907",
         "2016-01-01 19:00:00+01:00",
         "145.02"
        ],
        [
         "78908",
         "2016-01-01 20:00:00+01:00",
         "142.28"
        ],
        [
         "78909",
         "2016-01-01 21:00:00+01:00",
         "134.39"
        ],
        [
         "78910",
         "2016-01-01 22:00:00+01:00",
         "119.72"
        ],
        [
         "78911",
         "2016-01-01 23:00:00+01:00",
         "105.68"
        ],
        [
         "78864",
         "2016-01-02 00:00:00+01:00",
         "94.74"
        ],
        [
         "78865",
         "2016-01-02 01:00:00+01:00",
         "85.05"
        ],
        [
         "78866",
         "2016-01-02 02:00:00+01:00",
         "79.35"
        ],
        [
         "78867",
         "2016-01-02 03:00:00+01:00",
         "75.17"
        ],
        [
         "78868",
         "2016-01-02 04:00:00+01:00",
         "79.5"
        ],
        [
         "78869",
         "2016-01-02 05:00:00+01:00",
         "82.96"
        ],
        [
         "78870",
         "2016-01-02 06:00:00+01:00",
         "98.12"
        ],
        [
         "78871",
         "2016-01-02 07:00:00+01:00",
         "105.43"
        ],
        [
         "78872",
         "2016-01-02 08:00:00+01:00",
         "120.09"
        ],
        [
         "78873",
         "2016-01-02 09:00:00+01:00",
         "134.99"
        ],
        [
         "78874",
         "2016-01-02 10:00:00+01:00",
         "137.05"
        ],
        [
         "78875",
         "2016-01-02 11:00:00+01:00",
         "138.5"
        ],
        [
         "78876",
         "2016-01-02 12:00:00+01:00",
         "142.25"
        ],
        [
         "78877",
         "2016-01-02 13:00:00+01:00",
         "141.28"
        ],
        [
         "78878",
         "2016-01-02 14:00:00+01:00",
         "142.24"
        ],
        [
         "78879",
         "2016-01-02 15:00:00+01:00",
         "147.92"
        ],
        [
         "78880",
         "2016-01-02 16:00:00+01:00",
         "145.02"
        ],
        [
         "78881",
         "2016-01-02 17:00:00+01:00",
         "145.63"
        ],
        [
         "78882",
         "2016-01-02 18:00:00+01:00",
         "145.02"
        ],
        [
         "78883",
         "2016-01-02 19:00:00+01:00",
         "142.28"
        ],
        [
         "78884",
         "2016-01-02 20:00:00+01:00",
         "134.39"
        ],
        [
         "78885",
         "2016-01-02 21:00:00+01:00",
         "119.72"
        ],
        [
         "78886",
         "2016-01-02 22:00:00+01:00",
         "105.68"
        ],
        [
         "78887",
         "2016-01-02 23:00:00+01:00",
         "106.6"
        ],
        [
         "78840",
         "2016-01-03 00:00:00+01:00",
         "81.96"
        ],
        [
         "78841",
         "2016-01-03 01:00:00+01:00",
         "76.44"
        ]
       ],
       "shape": {
        "columns": 2,
        "rows": 78912
       }
      },
      "text/html": [
       "<div>\n",
       "<style scoped>\n",
       "    .dataframe tbody tr th:only-of-type {\n",
       "        vertical-align: middle;\n",
       "    }\n",
       "\n",
       "    .dataframe tbody tr th {\n",
       "        vertical-align: top;\n",
       "    }\n",
       "\n",
       "    .dataframe thead th {\n",
       "        text-align: right;\n",
       "    }\n",
       "</style>\n",
       "<table border=\"1\" class=\"dataframe\">\n",
       "  <thead>\n",
       "    <tr style=\"text-align: right;\">\n",
       "      <th></th>\n",
       "      <th>Data Godzina</th>\n",
       "      <th>Cena PLN/MWh</th>\n",
       "    </tr>\n",
       "  </thead>\n",
       "  <tbody>\n",
       "    <tr>\n",
       "      <th>78888</th>\n",
       "      <td>2016-01-01 00:00:00+01:00</td>\n",
       "      <td>108.27</td>\n",
       "    </tr>\n",
       "    <tr>\n",
       "      <th>78889</th>\n",
       "      <td>2016-01-01 01:00:00+01:00</td>\n",
       "      <td>94.74</td>\n",
       "    </tr>\n",
       "    <tr>\n",
       "      <th>78890</th>\n",
       "      <td>2016-01-01 02:00:00+01:00</td>\n",
       "      <td>85.05</td>\n",
       "    </tr>\n",
       "    <tr>\n",
       "      <th>78891</th>\n",
       "      <td>2016-01-01 03:00:00+01:00</td>\n",
       "      <td>79.35</td>\n",
       "    </tr>\n",
       "    <tr>\n",
       "      <th>78892</th>\n",
       "      <td>2016-01-01 04:00:00+01:00</td>\n",
       "      <td>75.17</td>\n",
       "    </tr>\n",
       "    <tr>\n",
       "      <th>...</th>\n",
       "      <td>...</td>\n",
       "      <td>...</td>\n",
       "    </tr>\n",
       "    <tr>\n",
       "      <th>19</th>\n",
       "      <td>2024-12-31 19:00:00+01:00</td>\n",
       "      <td>301.99</td>\n",
       "    </tr>\n",
       "    <tr>\n",
       "      <th>20</th>\n",
       "      <td>2024-12-31 20:00:00+01:00</td>\n",
       "      <td>215.00</td>\n",
       "    </tr>\n",
       "    <tr>\n",
       "      <th>21</th>\n",
       "      <td>2024-12-31 21:00:00+01:00</td>\n",
       "      <td>50.00</td>\n",
       "    </tr>\n",
       "    <tr>\n",
       "      <th>22</th>\n",
       "      <td>2024-12-31 22:00:00+01:00</td>\n",
       "      <td>0.01</td>\n",
       "    </tr>\n",
       "    <tr>\n",
       "      <th>23</th>\n",
       "      <td>2024-12-31 23:00:00+01:00</td>\n",
       "      <td>-10.01</td>\n",
       "    </tr>\n",
       "  </tbody>\n",
       "</table>\n",
       "<p>78912 rows × 2 columns</p>\n",
       "</div>"
      ],
      "text/plain": [
       "                   Data Godzina  Cena PLN/MWh\n",
       "78888 2016-01-01 00:00:00+01:00        108.27\n",
       "78889 2016-01-01 01:00:00+01:00         94.74\n",
       "78890 2016-01-01 02:00:00+01:00         85.05\n",
       "78891 2016-01-01 03:00:00+01:00         79.35\n",
       "78892 2016-01-01 04:00:00+01:00         75.17\n",
       "...                         ...           ...\n",
       "19    2024-12-31 19:00:00+01:00        301.99\n",
       "20    2024-12-31 20:00:00+01:00        215.00\n",
       "21    2024-12-31 21:00:00+01:00         50.00\n",
       "22    2024-12-31 22:00:00+01:00          0.01\n",
       "23    2024-12-31 23:00:00+01:00        -10.01\n",
       "\n",
       "[78912 rows x 2 columns]"
      ]
     },
     "execution_count": 8,
     "metadata": {},
     "output_type": "execute_result"
    }
   ],
   "source": [
    "df_fix1_history"
   ]
  },
  {
   "cell_type": "markdown",
   "id": "b5cd45c790a779a7",
   "metadata": {},
   "source": [
    "## Pogoda"
   ]
  },
  {
   "cell_type": "code",
   "execution_count": 9,
   "id": "9b97ca6476ef6b47",
   "metadata": {
    "ExecuteTime": {
     "end_time": "2025-01-05T15:17:35.193693Z",
     "start_time": "2025-01-05T15:17:34.871927Z"
    }
   },
   "outputs": [],
   "source": [
    "from config import mongo_connect_config_pogoda\n",
    "\n",
    "path_weather = 'data/2023/raw_weather.parquet'\n",
    "df_weather = load_data(path_weather, mongo_connect_config_pogoda)\n",
    "\n",
    "# Drop inconsistent stations\n",
    "df_weather = df_weather.loc[~df_weather['imgw_station_name'].isin(['Kasprowy Wierch', 'sniezka'])]\n",
    "df_weather = create_date_time_with_timezone(df_weather)\n",
    "\n",
    "df_weather = df_weather.groupby('Data Godzina').mean(numeric_only=True).reset_index()\n",
    "df_weather = df_weather.rename(columns={'temp_C': 'Temperatura C'})\n",
    "df_weather = df_weather[['Data Godzina', 'Temperatura C']].copy()\n",
    "\n",
    "df_weather.to_parquet('data/2023/processed_weather.parquet')"
   ]
  },
  {
   "cell_type": "markdown",
   "id": "f9031d156bc89b90",
   "metadata": {},
   "source": []
  },
  {
   "cell_type": "markdown",
   "id": "6ffb3a02b6aa90a4",
   "metadata": {},
   "source": [
    "## Standardowe profile zużycia"
   ]
  },
  {
   "cell_type": "code",
   "execution_count": 10,
   "id": "3c0b27e8949992e9",
   "metadata": {
    "ExecuteTime": {
     "end_time": "2025-01-05T15:18:23.849944Z",
     "start_time": "2025-01-05T15:18:23.723417Z"
    }
   },
   "outputs": [],
   "source": [
    "df_profile = pd.read_excel('data/2023/raw_standardowe_profile_enea.xlsx', sheet_name='G11')\n",
    "\n",
    "df_profile = df_profile.set_index('Data')\n",
    "df_profile = df_profile.drop(columns=['Dzień'])\n",
    "df_profile = df_profile.melt(ignore_index=False, var_name='Godzina', value_name='Wskaźnik zużycia %')\n",
    "df_profile = df_profile.reset_index()\n",
    "df_profile = df_profile.dropna()\n",
    "\n",
    "# godzina 3 tego dnia nie istnieje, to jest błąd w danych źródłowych\n",
    "df_profile.loc[(df_profile['Data']=='2023-03-26') & (df_profile['Godzina']==3), 'Godzina'] = 2\n",
    "# Godz 2a\n",
    "df_profile = df_profile.dropna(subset='Wskaźnik zużycia %', axis=0)\n",
    "df_profile.loc[df_profile['Godzina'] == '2a', 'Godzina'] = 3\n",
    "df_profile = df_profile.sort_values(['Data', 'Godzina'])\n",
    "df_profile['Data Godzina'] = pd.to_datetime(df_profile['Data']) + pd.to_timedelta(df_profile['Godzina'] - 1, unit='h')\n",
    "df_profile['Data Godzina'] = df_profile['Data Godzina'].dt.tz_localize('Europe/Warsaw', ambiguous='infer')\n",
    "\n",
    "df_profile['Wskaźnik zużycia %'] = df_profile['Wskaźnik zużycia %'] / 1000\n",
    "df_profile = df_profile.reset_index(drop=True)\n",
    "\n",
    "# dane z GUS w GWh (plik \"roczne uzycie ee gosp domowe 2023.pdf\")\n",
    "roczne_zuzycie_gp = 29774.5\n",
    "df_profile['Roczne zużycie gd MWh'] = roczne_zuzycie_gp * 1000\n",
    "\n",
    "# zamodelowanie godzinowego zużycia ee przez gospodarstwa domowe\n",
    "df_profile['Godzinowe zużycie gd MWh'] = round(df_profile['Roczne zużycie gd MWh'] * df_profile['Wskaźnik zużycia %'], 4)\n",
    "\n",
    "df_profile['Miesiąc'] = df_profile['Data Godzina'].dt.month\n",
    "# df_profile['Dzień tygodnia'] = df_profile['Data Godzina'].dt.weekday\n",
    "grouper = [\n",
    "    'Godzina',\n",
    "    'Miesiąc',\n",
    "    # 'Dzień tygodnia'\n",
    "]\n",
    "df_profile_model = df_profile.groupby(grouper).mean(numeric_only=True)\n",
    "df_profile_model.rename(columns={'Godzinowe zużycie gd MWh': 'Modelowe godzinowe zużycie gd MWh'}, inplace=True)\n",
    "df_profile_model = df_profile_model[['Modelowe godzinowe zużycie gd MWh']]\n",
    "df_profile = pd.merge(df_profile.reset_index(drop=True), df_profile_model, on=grouper)\n",
    "\n",
    "df_profile['Delta godzinowe zużycie gd MWh'] = \\\n",
    "    df_profile['Godzinowe zużycie gd MWh'] - df_profile['Modelowe godzinowe zużycie gd MWh']\n",
    "\n",
    "df_profile.to_parquet('data/2023/processed_standardowe_profile_enea.parquet')"
   ]
  },
  {
   "cell_type": "code",
   "execution_count": null,
   "id": "9a5135fc3384d045",
   "metadata": {
    "ExecuteTime": {
     "end_time": "2025-01-05T14:54:38.942114Z",
     "start_time": "2025-01-05T14:54:38.939258Z"
    }
   },
   "outputs": [],
   "source": []
  }
 ],
 "metadata": {
  "kernelspec": {
   "display_name": "Python 3",
   "language": "python",
   "name": "python3"
  },
  "language_info": {
   "codemirror_mode": {
    "name": "ipython",
    "version": 3
   },
   "file_extension": ".py",
   "mimetype": "text/x-python",
   "name": "python",
   "nbconvert_exporter": "python",
   "pygments_lexer": "ipython3",
   "version": "3.11.0"
  }
 },
 "nbformat": 4,
 "nbformat_minor": 5
}
