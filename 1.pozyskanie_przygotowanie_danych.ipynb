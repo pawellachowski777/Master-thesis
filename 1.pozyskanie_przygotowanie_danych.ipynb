{
 "cells": [
  {
   "metadata": {
    "ExecuteTime": {
     "end_time": "2024-11-24T14:36:44.481903Z",
     "start_time": "2024-11-24T14:36:44.466696Z"
    }
   },
   "cell_type": "code",
   "source": [
    "import pandas as pd\n",
    "import os\n",
    "from utils.from_mongodb import MongoData\n",
    "from config import MongoConfig\n",
    "\n",
    "### FUNCTION\n",
    "def load_data(path: str, mongo_connect_config: MongoConfig):\n",
    "    \"\"\"\n",
    "    Loads data from either from MongoDB if the file not exists or from published by the author .parquet if the file exists.\n",
    "    :param path: str - path to the data file\n",
    "    :param mongo_connect_config: MongoConfig - configuration object to connect to MongoDB.\n",
    "    :return: \n",
    "    \"\"\"\n",
    "    if os.path.exists(path):\n",
    "        df_df = pd.read_parquet(path)\n",
    "    else:\n",
    "        data_class = MongoData(mongo_connect_config)\n",
    "        df_df = data_class.load_mongo_document_to_df()\n",
    "        df_df.to_parquet(path)\n",
    "    \n",
    "    return df_df\n",
    "\n",
    "def create_date_time_with_timezone(df):\n",
    "    \"\"\"\n",
    "    Save date and time as datetime with time zone to distinguish DST (Daylight saving time) 3rd hour duplication.\n",
    "    \"\"\"\n",
    "    df.loc[(df['date_cet'] == '2023-10-29') & (df['hour'] > 3), 'hour']  = \\\n",
    "        df.loc[(df['date_cet'] == '2023-10-29') & (df['hour'] > 3), 'hour'] - 1\n",
    "    # df = create_datetime_timezone_1h(df)\n",
    "    df['Data Godzina'] = pd.to_datetime(df['date_cet']) + pd.to_timedelta(df['hour'] - 1, unit='h')\n",
    "    df['Data Godzina'] = df['Data Godzina'].dt.tz_localize('Europe/Warsaw', ambiguous='infer')\n",
    "\n",
    "    return df"
   ],
   "id": "d1b3bfd44c1ea477",
   "outputs": [],
   "execution_count": 3
  },
  {
   "metadata": {},
   "cell_type": "markdown",
   "source": "## PSE - Krajowe zapotrzebowanie, PV, wiatr",
   "id": "6d99a9bb8b4a6a30"
  },
  {
   "metadata": {
    "ExecuteTime": {
     "end_time": "2024-11-24T14:45:44.588804Z",
     "start_time": "2024-11-24T14:45:44.552638Z"
    }
   },
   "cell_type": "code",
   "source": [
    "from config import mongo_connect_config_pse_pk5\n",
    "\n",
    "\n",
    "path_pk5 = 'data/2023/raw_PSE_PK5.parquet'\n",
    "df_pse = load_data(path_pk5, mongo_connect_config_pse_pk5)\n",
    "   \n",
    "# process data \n",
    "df_pse = create_date_time_with_timezone(df_pse)\n",
    "df_pse = df_pse.set_index('Data Godzina')\n",
    "df_pse = df_pse[[\n",
    "    'prognozowane_zapotrzebowanie_sieci[MW]','prognozowana_sumaryczna_generacja_zrodel_wiatrowych[MW]',\n",
    "    'prognozowana_sumaryczna_generacja_zrodel_fotowoltaicznych[MW]']].copy()\n",
    "df_pse = df_pse.rename(columns={\n",
    "    'prognozowane_zapotrzebowanie_sieci[MW]': 'Godzinowe zuzycie krajowe MWh',\n",
    "    'prognozowana_sumaryczna_generacja_zrodel_wiatrowych[MW]': 'Generacja ze źródeł wiatrowych MWh',\n",
    "    'prognozowana_sumaryczna_generacja_zrodel_fotowoltaicznych[MW]': 'Generacja ze źródeł fotowoltaicznych MWh',\n",
    "})\n",
    "df_pse = df_pse.reset_index()\n",
    "\n",
    "# save processed data\n",
    "df_pse.to_parquet('data/2023/processed_pse.parquet')"
   ],
   "id": "c4868fa32eefc8fa",
   "outputs": [],
   "execution_count": 9
  },
  {
   "metadata": {},
   "cell_type": "markdown",
   "source": "## PSE - ceny Fix1",
   "id": "9890d5638a334c30"
  },
  {
   "metadata": {},
   "cell_type": "code",
   "outputs": [],
   "execution_count": null,
   "source": [
    "from config import mongo_connect_config_ceny_fix1\n",
    "\n",
    "path_fix = 'data/2023/raw_fix_price.parquet'\n",
    "df_ceny_rdn = load_data(path_fix, mongo_connect_config_ceny_fix1)\n",
    "\n",
    "df_ceny_rdn['datetime_timezone'] = pd.to_datetime(df_ceny_rdn['datetime_timezone'], utc=True)\n",
    "df_ceny_rdn['datetime_timezone'] = df_ceny_rdn['datetime_timezone'].dt.tz_convert('Europe/Warsaw')\n",
    "\n",
    "df_ceny_rdn = df_ceny_rdn.rename(columns={\n",
    "     'fix1_price[PLN/MWh]': 'Cena PLN/MWh',\n",
    "    'datetime_timezone': 'Data Godzina'\n",
    "})\n",
    "df_ceny_rdn = df_ceny_rdn[['Data Godzina', 'Cena PLN/MWh']].copy()\n",
    "\n",
    "df_ceny_rdn.to_parquet('data/2023/processed_fix_price.parquet')"
   ],
   "id": "34079f20929a3a51"
  },
  {
   "metadata": {},
   "cell_type": "markdown",
   "source": "## 2020-2024",
   "id": "5050f9c1b3e0d098"
  },
  {
   "metadata": {},
   "cell_type": "code",
   "outputs": [],
   "execution_count": null,
   "source": [
    "# df_ceny_rdn = pd.read_parquet('data/surowe_Ceny_2020_24.parquet')\n",
    "# from PyXoog import convert_datetime_timezone_datatype\n",
    "# \n",
    "# df_ceny_rdn = convert_datetime_timezone_datatype(df_ceny_rdn)\n",
    "# # df_ceny_rdn = df_ceny_rdn.drop(\n",
    "# #     columns=['interval_index', 'interval_type', 'date_cet', 'hour', 'wolumen_fixingu[MWh]']).copy()\n",
    "# df_ceny_rdn = df_ceny_rdn.rename(columns={\n",
    "#      'fix1_price[PLN/MWh]': 'Cena PLN/MWh',\n",
    "#     'datetime_timezone': 'Data Godzina'\n",
    "# })\n",
    "# df_ceny_rdn = df_ceny_rdn[['Data Godzina', 'Cena PLN/MWh']].copy()\n",
    "# df_ceny_rdn.to_parquet('data/obrobione_Ceny_2020_24.parquet')"
   ],
   "id": "c21c0d4e97deee4d"
  },
  {
   "metadata": {},
   "cell_type": "markdown",
   "source": "## Pogoda",
   "id": "b5cd45c790a779a7"
  },
  {
   "metadata": {
    "ExecuteTime": {
     "end_time": "2024-11-24T14:51:30.403192Z",
     "start_time": "2024-11-24T14:51:30.115314Z"
    }
   },
   "cell_type": "code",
   "source": [
    "from config import mongo_connect_config_pogoda\n",
    "\n",
    "path_weather = 'data/2023/raw_weather.parquet'\n",
    "df_weather = load_data(path_weather, mongo_connect_config_pogoda)\n",
    "\n",
    "df_weather = create_date_time_with_timezone(df_weather)\n",
    "\n",
    "df_weather = df_weather.groupby('Data Godzina').mean(numeric_only=True).reset_index()\n",
    "df_weather = df_weather.rename(columns={'temp_C': 'Temperatura C'})\n",
    "df_weather = df_weather[['Data Godzina', 'Temperatura C']].copy()\n",
    "\n",
    "df_weather.to_parquet('data/2023/processed_weather.parquet')"
   ],
   "id": "9b97ca6476ef6b47",
   "outputs": [],
   "execution_count": 13
  },
  {
   "metadata": {},
   "cell_type": "markdown",
   "source": "",
   "id": "f9031d156bc89b90"
  },
  {
   "metadata": {},
   "cell_type": "markdown",
   "source": "## Standardowe profile zużycia",
   "id": "6ffb3a02b6aa90a4"
  },
  {
   "metadata": {
    "ExecuteTime": {
     "end_time": "2024-11-24T15:06:05.975500Z",
     "start_time": "2024-11-24T15:06:05.844262Z"
    }
   },
   "cell_type": "code",
   "source": [
    "df_profile = pd.read_excel('data/2023/raw_standardowe_profile_enea.xlsx', sheet_name='G11')\n",
    "# df_profile = df_profile.drop(columns='2a') \n",
    "\n",
    "df_profile = df_profile.set_index('Data')\n",
    "df_profile = df_profile.drop(columns=['Dzień'])\n",
    "df_profile = df_profile.melt(ignore_index=False, var_name='Godzina', value_name='Wskaźnik zużycia kWh')\n",
    "df_profile = df_profile.reset_index()\n",
    "df_profile = df_profile.dropna()\n",
    "\n",
    "# godzina 3 nie istnieje, to jest błąd w danych źródłowych\n",
    "df_profile.loc[(df_profile['Data']=='2023-03-26') & (df_profile['Godzina']==3), 'Godzina'] = 2\n",
    "# Godz 2a\n",
    "df_profile = df_profile.dropna(subset='Wskaźnik zużycia kWh', axis=0)\n",
    "df_profile.loc[df_profile['Godzina'] == '2a', 'Godzina'] = 3\n",
    "df_profile = df_profile.sort_values(['Data', 'Godzina'])\n",
    "df_profile['Data Godzina'] = pd.to_datetime(df_profile['Data']) + pd.to_timedelta(df_profile['Godzina'] - 1, unit='h')\n",
    "df_profile['Data Godzina'] = df_profile['Data Godzina'].dt.tz_localize('Europe/Warsaw', ambiguous='infer')\n",
    "\n",
    "df_profile['Wskaźnik zużycia MWh'] = df_profile['Wskaźnik zużycia kWh'] / 1000\n",
    "df_profile = df_profile.reset_index(drop=True)\n",
    "\n",
    "# dane z GUS w GWh (plik \"roczne uzycie ee gosp domowe 2023.pdf\")\n",
    "roczne_zuzycie_gp = 29774.5\n",
    "df_profile['Roczne zuzycie gd MWh'] = roczne_zuzycie_gp * 1000\n",
    "\n",
    "# zamodelowanie godzinowego zużycia ee przez gospodarstwa domowe\n",
    "df_profile['Godzinowe zuzycie gd MWh'] = round(df_profile['Roczne zuzycie gd MWh'] * df_profile['Wskaźnik zużycia MWh'], 4)\n",
    "\n",
    "df_profile['Miesiąc'] = df_profile['Data Godzina'].dt.month\n",
    "# df_profile['Dzień tygodnia'] = df_profile['Data Godzina'].dt.weekday\n",
    "grouper = [\n",
    "    'Godzina',\n",
    "    'Miesiąc',\n",
    "    # 'Dzień tygodnia'\n",
    "]\n",
    "df_profile_model = df_profile.groupby(grouper).mean(numeric_only=True)\n",
    "df_profile_model.rename(columns={'Godzinowe zuzycie gd MWh': 'Modelowe godzinowe zużycie gd MWh'}, inplace=True)\n",
    "df_profile_model = df_profile_model[['Modelowe godzinowe zużycie gd MWh']]\n",
    "df_profile = pd.merge(df_profile.reset_index(drop=True), df_profile_model, on=grouper)\n",
    "\n",
    "df_profile['Delta godzinowe zużycie gd MWh'] = \\\n",
    "    df_profile['Godzinowe zuzycie gd MWh'] - df_profile['Modelowe godzinowe zużycie gd MWh']\n",
    "\n",
    "df_profile.to_parquet('data/2023/processed_standardowe_profile_enea.parquet')"
   ],
   "id": "3c0b27e8949992e9",
   "outputs": [],
   "execution_count": 22
  }
 ],
 "metadata": {
  "kernelspec": {
   "display_name": "Python 3",
   "language": "python",
   "name": "python3"
  },
  "language_info": {
   "codemirror_mode": {
    "name": "ipython",
    "version": 2
   },
   "file_extension": ".py",
   "mimetype": "text/x-python",
   "name": "python",
   "nbconvert_exporter": "python",
   "pygments_lexer": "ipython2",
   "version": "2.7.6"
  }
 },
 "nbformat": 4,
 "nbformat_minor": 5
}
