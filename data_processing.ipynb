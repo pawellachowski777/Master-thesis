{
 "cells": [
  {
   "cell_type": "markdown",
   "source": [
    "# Dane obrobione"
   ],
   "metadata": {
    "collapsed": false
   },
   "id": "c24a6220d07e0cdb"
  },
  {
   "cell_type": "code",
   "source": "import pandas as pd",
   "metadata": {
    "collapsed": false,
    "ExecuteTime": {
     "end_time": "2024-10-12T09:03:11.693758Z",
     "start_time": "2024-10-12T09:03:10.803574Z"
    }
   },
   "id": "10f55070619e7371",
   "execution_count": 1,
   "outputs": []
  },
  {
   "cell_type": "code",
   "source": [
    "df_zapotrzebowanie = pd.read_parquet('data/obrobione_Zapotrzebowanie_2023.parquet')\n",
    "df_agg_curves_fix1 = pd.read_parquet('data/obrobione_KrzyweZagregowaneFix1_2023.parquet')\n",
    "df_ceny_rdn = pd.read_parquet('data/obrobione_Ceny_2023.parquet')"
   ],
   "metadata": {
    "collapsed": false,
    "ExecuteTime": {
     "end_time": "2024-10-12T09:03:12.578699Z",
     "start_time": "2024-10-12T09:03:11.693758Z"
    }
   },
   "id": "3ff5b131fc208038",
   "execution_count": 2,
   "outputs": []
  },
  {
   "cell_type": "code",
   "source": [
    "df_zapotrzebowanie"
   ],
   "metadata": {
    "collapsed": false,
    "ExecuteTime": {
     "end_time": "2024-10-12T09:12:00.148058Z",
     "start_time": "2024-10-12T09:12:00.130357Z"
    }
   },
   "id": "f1f557c58e4ce05b",
   "execution_count": 14,
   "outputs": []
  },
  {
   "cell_type": "code",
   "source": [
    "df_agg_curves_fix1"
   ],
   "metadata": {
    "collapsed": false,
    "ExecuteTime": {
     "end_time": "2024-10-12T09:03:28.033568Z",
     "start_time": "2024-10-12T09:03:28.019527Z"
    }
   },
   "id": "33dccf43a9cf366b",
   "execution_count": 4,
   "outputs": []
  },
  {
   "cell_type": "code",
   "source": [
    "df_ceny_rdn"
   ],
   "metadata": {
    "collapsed": false,
    "ExecuteTime": {
     "end_time": "2024-10-12T09:03:31.728102Z",
     "start_time": "2024-10-12T09:03:31.717818Z"
    }
   },
   "id": "9f82ec762f8dfbf8",
   "execution_count": 5,
   "outputs": []
  },
  {
   "cell_type": "markdown",
   "source": [
    "# Standardowe profile zużycia "
   ],
   "metadata": {
    "collapsed": false
   },
   "id": "41e23d98373b4c92"
  },
  {
   "cell_type": "code",
   "source": [
    "df = pd.read_excel('Załącznik_4_IRiESD_profile_2023.xlsx', sheet_name='G11')\n",
    "df = df.drop(columns='2a') \n",
    "\n",
    "df = df.set_index('Data')\n",
    "df = df.drop(columns=['Dzień'])\n",
    "df = df.melt(ignore_index=False, var_name='Godzina', value_name='Zuzycie_MWh')\n",
    "\n",
    "df['Godzina'] = df['Godzina'].astype(float)\n",
    "df = df.reset_index(drop=False)\n",
    "df['Data'] = df['Data'].dt.date\n",
    "\n",
    "# wyrzucenie godziny 2 w dniu z 23 godzinami\n",
    "df = df.dropna()\n",
    "\n",
    "df['Data Godzina'] = pd.to_datetime(df['Data']) + pd.to_timedelta(df['Godzina'] - 1, unit='h')\n",
    "\n",
    "df = df.set_index('Data Godzina').sort_index()\n",
    "df = df.rename(columns={'Zuzycie_MWh': 'Zuzycie gd MWh'})\n",
    "# df.to_excel('gospodarstwa_domowe_zuzycie_enea_melt_2023.xlsx', index=False)"
   ],
   "metadata": {
    "collapsed": false,
    "ExecuteTime": {
     "end_time": "2024-10-12T09:04:01.150859Z",
     "start_time": "2024-10-12T09:04:00.793622Z"
    }
   },
   "id": "f2fc98ea72df10fe",
   "execution_count": 6,
   "outputs": []
  },
  {
   "cell_type": "code",
   "source": [
    "df"
   ],
   "metadata": {
    "collapsed": false,
    "ExecuteTime": {
     "end_time": "2024-10-12T09:04:05.139104Z",
     "start_time": "2024-10-12T09:04:05.125099Z"
    }
   },
   "id": "f7dcc4c890666bb5",
   "execution_count": 7,
   "outputs": []
  },
  {
   "cell_type": "markdown",
   "source": [
    "Stworzenie godzinowego zużycia ee dla gospodarstw domowych w całym kraju"
   ],
   "metadata": {
    "collapsed": false
   },
   "id": "6cf9915b035f5863"
  },
  {
   "cell_type": "code",
   "source": [
    "# dane z Eurostatu w GWh\n",
    "df['Roczne zuzycie gd MWh'] = 29774.5 * 1000\n",
    "\n",
    "df['Zuzycie gd %'] = df['Zuzycie gd MWh'] / df['Zuzycie gd MWh'].sum()\n",
    "# zamodelowanie godzinowego zużycia ee przez gospodarstwa domowe\n",
    "df['Godzinowe zuzycie gd MWh'] = round(df['Roczne zuzycie gd MWh'] * df['Zuzycie gd %'], 4)\n",
    "df = df.drop(columns=['Roczne zuzycie gd MWh', 'Zuzycie gd %', 'Zuzycie gd MWh'])"
   ],
   "metadata": {
    "collapsed": false,
    "ExecuteTime": {
     "end_time": "2024-10-12T09:06:50.395884Z",
     "start_time": "2024-10-12T09:06:50.383331Z"
    }
   },
   "id": "72065baa00de25a8",
   "execution_count": 10,
   "outputs": []
  },
  {
   "metadata": {},
   "cell_type": "code",
   "execution_count": null,
   "source": "",
   "id": "8329c6e33b19c0f1",
   "outputs": []
  },
  {
   "metadata": {},
   "cell_type": "code",
   "execution_count": null,
   "source": "",
   "id": "70e5daeaac9f680a",
   "outputs": []
  },
  {
   "metadata": {},
   "cell_type": "code",
   "execution_count": null,
   "source": "",
   "id": "f5644698b1d5bc47",
   "outputs": []
  },
  {
   "metadata": {},
   "cell_type": "code",
   "execution_count": null,
   "source": "",
   "id": "bace78979f663f2c",
   "outputs": []
  },
  {
   "metadata": {},
   "cell_type": "code",
   "execution_count": null,
   "source": "",
   "id": "c7b512178b4b271d",
   "outputs": []
  },
  {
   "metadata": {},
   "cell_type": "code",
   "execution_count": null,
   "source": "",
   "id": "c7dbd67b61b11dba",
   "outputs": []
  },
  {
   "metadata": {},
   "cell_type": "code",
   "execution_count": null,
   "source": "",
   "id": "6b059290c0051fbf",
   "outputs": []
  },
  {
   "metadata": {},
   "cell_type": "code",
   "execution_count": null,
   "source": "",
   "id": "74fe377171648fc",
   "outputs": []
  },
  {
   "metadata": {},
   "cell_type": "code",
   "execution_count": null,
   "source": "",
   "id": "b0a0f77726a85941",
   "outputs": []
  },
  {
   "cell_type": "markdown",
   "source": [
    "# Dodanie krajowego zapotrzeobwania"
   ],
   "metadata": {
    "collapsed": false
   },
   "id": "7cd9e47f79cba555"
  },
  {
   "cell_type": "code",
   "source": [
    "from config import mongo_connect_config_pse_pk5\n",
    "from utils.from_mongodb import MongoData"
   ],
   "metadata": {
    "collapsed": false,
    "ExecuteTime": {
     "end_time": "2024-10-12T09:07:02.379094Z",
     "start_time": "2024-10-12T09:06:58.789399Z"
    }
   },
   "id": "9b4c1baa81719702",
   "execution_count": 12,
   "outputs": []
  },
  {
   "cell_type": "code",
   "source": [
    "pse = MongoData(mongo_connect_config_pse_pk5)\n",
    "df_pse = pse.load_mongo_document_to_df()\n",
    "df_pse.to_parquet('data/surowe_ZapotrzebowaniePSE_2023.parquet')"
   ],
   "metadata": {
    "collapsed": false,
    "ExecuteTime": {
     "end_time": "2024-10-12T09:07:25.921894Z",
     "start_time": "2024-10-12T09:07:02.941666Z"
    }
   },
   "id": "9700cf22b186729a",
   "execution_count": 13,
   "outputs": []
  },
  {
   "cell_type": "code",
   "execution_count": 93,
   "source": [
    "df_pse['Data Godzina'] = pd.to_datetime(df_pse['date_cet']) + pd.to_timedelta(df_pse['hour'] - 1, unit='h')\n",
    "df_pse = df_pse.set_index('Data Godzina')\n",
    "df_pse = df_pse[['prognozowane_zapotrzebowanie_sieci[MW]']].copy()\n",
    "df_pse = df_pse.rename(columns={'prognozowane_zapotrzebowanie_sieci[MW]': 'Godzinowe zuzycie krajowe MWh'})\n",
    "\n",
    "df = df.merge(df_pse, left_index=True, right_index=True)"
   ],
   "metadata": {
    "collapsed": false,
    "ExecuteTime": {
     "end_time": "2024-04-14T08:29:41.909150400Z",
     "start_time": "2024-04-14T08:29:41.889733600Z"
    }
   },
   "id": "1dad93bf7af266b2",
   "outputs": []
  },
  {
   "cell_type": "code",
   "execution_count": 95,
   "source": [
    "df.to_parquet('data/obrobione_Zapotrzebowanie_2023.parquet')"
   ],
   "metadata": {
    "collapsed": false,
    "ExecuteTime": {
     "end_time": "2024-04-14T08:30:21.501596800Z",
     "start_time": "2024-04-14T08:30:21.466914500Z"
    }
   },
   "id": "ed75b69ccdc6a073",
   "outputs": []
  },
  {
   "cell_type": "markdown",
   "source": [
    "# Krzywe zagregowane RDN"
   ],
   "metadata": {
    "collapsed": false
   },
   "id": "b4419c1e0956341d"
  },
  {
   "cell_type": "markdown",
   "source": [
    "Wczytanie krzywych DAMC"
   ],
   "metadata": {
    "collapsed": false
   },
   "id": "49bc08495bc77847"
  },
  {
   "cell_type": "code",
   "execution_count": 16,
   "source": [
    "from config import mongo_connect_config_krzywe_zagregowane"
   ],
   "metadata": {
    "collapsed": false,
    "ExecuteTime": {
     "end_time": "2024-04-23T06:57:52.234260400Z",
     "start_time": "2024-04-23T06:57:47.909038300Z"
    }
   },
   "id": "659df6e79a31d027",
   "outputs": []
  },
  {
   "cell_type": "code",
   "execution_count": 8,
   "source": [
    "curves = MongoData(mongo_connect_config_krzywe_zagregowane)\n",
    "df_agg_curves = curves.load_mongo_document_to_df()\n",
    "df_agg_curves.to_parquet('data/surowe_KrzyweZagregowaneDAMC_2023.parquet')"
   ],
   "metadata": {
    "collapsed": false,
    "ExecuteTime": {
     "end_time": "2024-04-06T09:19:56.648641900Z",
     "start_time": "2024-04-06T08:59:53.416313300Z"
    }
   },
   "id": "5e0ed7857c713957",
   "outputs": []
  },
  {
   "cell_type": "code",
   "execution_count": 17,
   "source": [
    "df_agg_curves = pd.read_parquet('data/surowe_KrzyweZagregowaneDAMC_2023.parquet')"
   ],
   "metadata": {
    "collapsed": false,
    "ExecuteTime": {
     "end_time": "2024-04-23T06:57:52.928252200Z",
     "start_time": "2024-04-23T06:57:52.234260400Z"
    }
   },
   "id": "f50bbd495df940ae",
   "outputs": []
  },
  {
   "cell_type": "markdown",
   "source": [
    "Wczytanie krzywych Fix1"
   ],
   "metadata": {
    "collapsed": false
   },
   "id": "1ab06a74f8333881"
  },
  {
   "cell_type": "code",
   "execution_count": 102,
   "source": [
    "from config import mongo_connect_config_krzywe_zagregowane_fix1"
   ],
   "metadata": {
    "collapsed": false,
    "ExecuteTime": {
     "end_time": "2024-04-14T08:31:39.282809700Z",
     "start_time": "2024-04-14T08:31:39.280797700Z"
    }
   },
   "id": "eeca5ccb4cc27084",
   "outputs": []
  },
  {
   "cell_type": "code",
   "execution_count": 2,
   "source": [
    "curves = MongoData(mongo_connect_config_krzywe_zagregowane_fix1)\n",
    "df_agg_curves_fix1 = curves.load_mongo_document_to_df()\n",
    "df_agg_curves_fix1.to_parquet('data/surowe_KrzyweZagregowaneFix1_2023.parquet')"
   ],
   "metadata": {
    "collapsed": false,
    "ExecuteTime": {
     "end_time": "2024-04-06T09:51:59.799553800Z",
     "start_time": "2024-04-06T09:48:54.829365500Z"
    }
   },
   "id": "2c0e96aa8a44c2df",
   "outputs": []
  },
  {
   "cell_type": "code",
   "execution_count": 98,
   "source": [
    "df_agg_curves_fix1 = pd.read_parquet('data/surowe_KrzyweZagregowaneFix1_2023.parquet')"
   ],
   "metadata": {
    "collapsed": false,
    "ExecuteTime": {
     "end_time": "2024-04-14T08:31:29.562446400Z",
     "start_time": "2024-04-14T08:31:29.409644300Z"
    }
   },
   "id": "2ae352087f97da9a",
   "outputs": []
  },
  {
   "cell_type": "markdown",
   "source": [
    "Braki w danych"
   ],
   "metadata": {
    "collapsed": false
   },
   "id": "365bd5d3b880028c"
  },
  {
   "cell_type": "code",
   "execution_count": 99,
   "source": [
    "def check_missing_data(df, config):\n",
    "    return pd.date_range(start = config.START, end = config.END).difference(df['date_cet'])"
   ],
   "metadata": {
    "collapsed": false,
    "ExecuteTime": {
     "end_time": "2024-04-14T08:31:31.745329200Z",
     "start_time": "2024-04-14T08:31:31.736347100Z"
    }
   },
   "id": "1af20ba9fb44a2a0",
   "outputs": []
  },
  {
   "cell_type": "code",
   "execution_count": 100,
   "source": [
    "# fix1\n",
    "check_missing_data(df_agg_curves_fix1, mongo_connect_config_krzywe_zagregowane_fix1)"
   ],
   "metadata": {
    "collapsed": false,
    "ExecuteTime": {
     "end_time": "2024-04-14T08:31:32.746365200Z",
     "start_time": "2024-04-14T08:31:31.988838700Z"
    }
   },
   "id": "79b096cba3d55fb8",
   "outputs": []
  },
  {
   "cell_type": "code",
   "execution_count": 105,
   "source": [
    "# damc\n",
    "check_missing_data(df_agg_curves, mongo_connect_config_krzywe_zagregowane)"
   ],
   "metadata": {
    "collapsed": false,
    "ExecuteTime": {
     "end_time": "2024-04-14T08:32:06.994658300Z",
     "start_time": "2024-04-14T08:32:03.163576600Z"
    }
   },
   "id": "eb86ec6cac92f174",
   "outputs": []
  },
  {
   "cell_type": "code",
   "execution_count": 106,
   "source": [
    "print(f\"\"\"\n",
    "Ilość danych fix {len(df_agg_curves_fix1)},\n",
    "Ilość danych damc {len(df_agg_curves)}\n",
    "\"\"\"\n",
    ")\n"
   ],
   "metadata": {
    "collapsed": false,
    "ExecuteTime": {
     "end_time": "2024-04-14T08:32:09.001668800Z",
     "start_time": "2024-04-14T08:32:08.996221300Z"
    }
   },
   "id": "99c3776e031d8dc6",
   "outputs": []
  },
  {
   "cell_type": "markdown",
   "source": [
    "## Krzywe Fix1 - przetworzenie danych"
   ],
   "metadata": {
    "collapsed": false
   },
   "id": "ea7580d9f5a42136"
  },
  {
   "cell_type": "markdown",
   "source": [
    "Znalezienie punktu przecięcia krzywych"
   ],
   "metadata": {
    "collapsed": false
   },
   "id": "1831a8f9854778eb"
  },
  {
   "cell_type": "code",
   "execution_count": 18,
   "source": [
    "import numpy as np\n",
    "\n",
    "df_agg_curves = pd.read_parquet('data/surowe_KrzyweZagregowaneFix1_2023.parquet')\n",
    "curr = 'PLN/MWh'\n",
    "\n",
    "df_ = df_agg_curves[\n",
    "    (df_agg_curves['date_cet'] == '2023-11-18')\n",
    "    & (df_agg_curves['interval_index'] == 1)\n",
    "].copy()\n",
    "\n",
    "def _rename_cols(curr, df_):\n",
    "    df_dict = {}\n",
    "    for type_ in ['sell', 'buy']:\n",
    "        df_dict[type_] = df_[[f'aggt_{type_}_vol[MWh]', f'{type_}_price[{curr}]']]\n",
    "        df_dict[type_] = df_dict[type_].rename(columns={\n",
    "            f'aggt_{type_}_vol[MWh]': 'aggt_vol[MWh]',\n",
    "            f'{type_}_price[{curr}]': f'price[{curr}]'},\n",
    "        )\n",
    "        df_dict[type_]['type'] = type_\n",
    "\n",
    "    df_ = pd.concat([df_dict['sell'], df_dict['buy']])\n",
    "    df_ = df_.reset_index(drop=True)\n",
    "\n",
    "    return df_\n",
    "\n",
    "df_ = _rename_cols(curr, df_)\n",
    "df_ = df_.sort_values(by=['aggt_vol[MWh]']).reset_index(drop=True)\n",
    "df_[f'price_sell[{curr}]'] = df_.apply(lambda x: x[f'price[{curr}]'] if x['type'] == 'sell' else np.nan, axis=1)\n",
    "df_[f'price_buy[{curr}]'] = df_.apply(lambda x: x[f'price[{curr}]'] if x['type'] == 'buy' else np.nan, axis=1)\n",
    "df_[[f'price_buy[{curr}]', f'price_sell[{curr}]']] = df_[[f'price_buy[{curr}]', f'price_sell[{curr}]']].bfill()\n",
    "df_row_to_append = df_[df_[f'price_buy[{curr}]'] > df_[f'price_sell[{curr}]']][-1:]\n",
    "df_row_to_append"
   ],
   "metadata": {
    "collapsed": false,
    "ExecuteTime": {
     "end_time": "2024-04-23T07:00:07.454314500Z",
     "start_time": "2024-04-23T07:00:07.177747400Z"
    }
   },
   "id": "8844063faaf8ab06",
   "outputs": []
  },
  {
   "cell_type": "code",
   "execution_count": 19,
   "source": [
    "df_ceny_rdn[df_ceny_rdn.index == '2023-11-18']"
   ],
   "metadata": {
    "collapsed": false,
    "ExecuteTime": {
     "end_time": "2024-04-23T07:00:10.224033900Z",
     "start_time": "2024-04-23T07:00:10.181937700Z"
    }
   },
   "id": "f345225a8300fe2c",
   "outputs": []
  },
  {
   "cell_type": "code",
   "execution_count": 125,
   "source": [
    "df_agg_curves_fix1 = pd.read_parquet('data/surowe_KrzyweZagregowaneFix1_2023.parquet')\n",
    "\n",
    "df_agg_curves_fix1['Godzina'] = df_agg_curves_fix1['interval_index']\n",
    "# wyrzucenie 25 godziny\n",
    "df_agg_curves_fix1.drop(index=df_agg_curves_fix1[df_agg_curves_fix1['Godzina'] == 25].index, inplace=True)\n",
    "df_agg_curves_fix1['Data Godzina'] = pd.to_datetime(df_agg_curves_fix1['date_cet']) + pd.to_timedelta(df_agg_curves_fix1['interval_index'] - 1, unit='h')\n",
    "df_agg_curves_fix1 = df_agg_curves_fix1.rename(columns={'date_cet': 'Data'})\n",
    "\n",
    "df_agg_curves_fix1 = df_agg_curves_fix1.set_index('Data Godzina')\n",
    "\n",
    "df_curves_sell = df_agg_curves_fix1[\n",
    "    ['Data', 'Godzina', 'aggt_sell_vol[MWh]', 'sell_price[PLN/MWh]']].copy()\n",
    "\n",
    "df_curves_sell['Strona'] = 'sell'\n",
    "df_curves_sell.rename(columns={'aggt_sell_vol[MWh]': 'Wolumen oferty MWh', 'sell_price[PLN/MWh]': 'Cena oferty PLN/MWh'},\n",
    "                      inplace=True)\n",
    "\n",
    "df_curves_buy = df_agg_curves_fix1[\n",
    "    ['Data', 'Godzina', 'aggt_buy_vol[MWh]', 'buy_price[PLN/MWh]']].copy()\n",
    "df_curves_buy['Strona'] = 'buy'\n",
    "df_curves_buy.rename(columns={'aggt_buy_vol[MWh]': 'Wolumen oferty MWh', 'buy_price[PLN/MWh]': 'Cena oferty PLN/MWh'},\n",
    "                     inplace=True)\n",
    "\n",
    "df_curves = pd.concat([df_curves_buy, df_curves_sell])\n",
    "df_curves.to_parquet('data/obrobione_KrzyweZagregowaneFix1_2023.parquet')"
   ],
   "metadata": {
    "collapsed": false,
    "ExecuteTime": {
     "end_time": "2024-04-14T08:37:44.744991800Z",
     "start_time": "2024-04-14T08:37:43.216033400Z"
    }
   },
   "id": "89b8885b6fe58d9",
   "outputs": []
  },
  {
   "cell_type": "markdown",
   "source": [
    "# Ceny RDN"
   ],
   "metadata": {
    "collapsed": false
   },
   "id": "e650b9211d5c1756"
  },
  {
   "cell_type": "code",
   "execution_count": 126,
   "source": [
    "from config import mongo_connect_config_ceny_fix1\n",
    "from utils.from_mongodb import MongoData"
   ],
   "metadata": {
    "collapsed": false,
    "ExecuteTime": {
     "end_time": "2024-04-14T08:39:43.402130200Z",
     "start_time": "2024-04-14T08:38:17.840405500Z"
    }
   },
   "id": "6462329f1c739ff9",
   "outputs": []
  },
  {
   "cell_type": "code",
   "execution_count": null,
   "source": [
    "ceny = MongoData(mongo_connect_config_ceny_fix1)\n",
    "df_ceny_rdn = ceny.load_mongo_document_to_df()\n",
    "df_ceny_rdn.to_parquet('data/surowe_Ceny_2023.parquet')"
   ],
   "metadata": {
    "collapsed": false
   },
   "id": "5e3cfe28e0aa44ba",
   "outputs": []
  },
  {
   "cell_type": "code",
   "execution_count": 128,
   "source": [
    "df_ceny_rdn = pd.read_parquet('data/surowe_Ceny_2023.parquet')"
   ],
   "metadata": {
    "collapsed": false,
    "ExecuteTime": {
     "end_time": "2024-04-14T08:40:39.780546400Z",
     "start_time": "2024-04-14T08:40:39.712050500Z"
    }
   },
   "id": "602763e1b1dbb8ed",
   "outputs": []
  },
  {
   "cell_type": "code",
   "execution_count": 129,
   "source": [
    "df_ceny_rdn['Data Godzina'] = pd.to_datetime(df_ceny_rdn['date_cet']) + pd.to_timedelta(df_ceny_rdn['hour'] - 1, unit='h')\n",
    "df_ceny_rdn = df_ceny_rdn.set_index('Data Godzina')\n",
    "\n",
    "df_ceny_rdn = df_ceny_rdn.drop(columns=['interval_index', 'interval_type', 'wolumen_fixingu[MWh]']).copy()\n",
    "df_ceny_rdn.rename(columns={'date_cet': 'Data', 'hour': 'Godzina', 'cena_fixingu[PLN/MWh]': 'Cena PLN/MWh'}, inplace=True)"
   ],
   "metadata": {
    "collapsed": false,
    "ExecuteTime": {
     "end_time": "2024-04-14T08:40:49.067175800Z",
     "start_time": "2024-04-14T08:40:49.035467300Z"
    }
   },
   "id": "e04db183506ceea2",
   "outputs": []
  },
  {
   "cell_type": "code",
   "execution_count": 131,
   "source": [
    "df_ceny_rdn.to_parquet('data/obrobione_Ceny_2023.parquet')"
   ],
   "metadata": {
    "collapsed": false,
    "ExecuteTime": {
     "end_time": "2024-04-14T08:41:58.587682Z",
     "start_time": "2024-04-14T08:41:58.555940800Z"
    }
   },
   "id": "7a7593a57ffbdadd",
   "outputs": []
  },
  {
   "cell_type": "code",
   "execution_count": 30,
   "source": [
    "df_ceny_rdn"
   ],
   "metadata": {
    "collapsed": false,
    "ExecuteTime": {
     "end_time": "2024-04-21T18:02:37.583708600Z",
     "start_time": "2024-04-21T18:02:37.483863900Z"
    }
   },
   "id": "98e28bface628d88",
   "outputs": []
  },
  {
   "cell_type": "code",
   "execution_count": 33,
   "source": [
    "df_agg_curves_fix1"
   ],
   "metadata": {
    "collapsed": false,
    "ExecuteTime": {
     "end_time": "2024-04-21T18:03:14.151821800Z",
     "start_time": "2024-04-21T18:03:14.086380900Z"
    }
   },
   "id": "66cd06681bb688cd",
   "outputs": []
  },
  {
   "cell_type": "code",
   "execution_count": 44,
   "source": [
    "df_sell = df_agg_curves_fix1[\n",
    "    (df_agg_curves_fix1.index == '2023-01-01') &\n",
    "    (df_agg_curves_fix1['Strona'] == 'sell')].sort_values('Cena oferty PLN/MWh')\n",
    "\n",
    "df_buy = df_agg_curves_fix1[\n",
    "    (df_agg_curves_fix1.index == '2023-01-01') &\n",
    "    (df_agg_curves_fix1['Strona'] == 'buy')].sort_values('Cena oferty PLN/MWh')"
   ],
   "metadata": {
    "collapsed": false,
    "ExecuteTime": {
     "end_time": "2024-04-21T18:07:38.137322200Z",
     "start_time": "2024-04-21T18:07:37.587860Z"
    }
   },
   "id": "18885368b5baac0a",
   "outputs": []
  },
  {
   "cell_type": "code",
   "execution_count": 46,
   "source": [
    "df_buy"
   ],
   "metadata": {
    "collapsed": false,
    "ExecuteTime": {
     "end_time": "2024-04-21T18:08:10.016006400Z",
     "start_time": "2024-04-21T18:08:09.956940300Z"
    }
   },
   "id": "b636c875543d0c12",
   "outputs": []
  },
  {
   "cell_type": "code",
   "execution_count": 47,
   "source": [],
   "metadata": {
    "collapsed": false,
    "ExecuteTime": {
     "end_time": "2024-04-21T18:09:03.262380900Z",
     "start_time": "2024-04-21T18:09:03.188688500Z"
    }
   },
   "id": "637bbc2b2b4134f4",
   "outputs": []
  }
 ],
 "metadata": {
  "kernelspec": {
   "display_name": "Python 3 (ipykernel)",
   "language": "python",
   "name": "python3"
  },
  "language_info": {
   "codemirror_mode": {
    "name": "ipython",
    "version": 3
   },
   "file_extension": ".py",
   "mimetype": "text/x-python",
   "name": "python",
   "nbconvert_exporter": "python",
   "pygments_lexer": "ipython3",
   "version": "3.11.0"
  }
 },
 "nbformat": 4,
 "nbformat_minor": 5
}
